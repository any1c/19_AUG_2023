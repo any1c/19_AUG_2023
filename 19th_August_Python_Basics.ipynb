{
 "cells": [
  {
   "cell_type": "code",
   "execution_count": null,
   "id": "36d333bb-1aa5-452a-8439-ea9131efdaec",
   "metadata": {},
   "outputs": [],
   "source": [
    "\"\"\"\n",
    "1. Declare two variables, `x` and `y`, and assign them integer values. Swap the\n",
    "values of these variables without using any temporary variable.\n",
    "\"\"\""
   ]
  },
  {
   "cell_type": "code",
   "execution_count": 2,
   "id": "d07e8145-2b87-4f51-aa67-8ff7b9e70e1d",
   "metadata": {},
   "outputs": [],
   "source": [
    "x=5\n",
    "y=10"
   ]
  },
  {
   "cell_type": "code",
   "execution_count": 3,
   "id": "f4101785-6201-4a81-b130-bfeb2dc29791",
   "metadata": {},
   "outputs": [],
   "source": [
    "y=y-x"
   ]
  },
  {
   "cell_type": "code",
   "execution_count": 4,
   "id": "13b5af5f-aa56-4d63-b851-528de234ab62",
   "metadata": {},
   "outputs": [],
   "source": [
    "x=y+x"
   ]
  },
  {
   "cell_type": "code",
   "execution_count": 6,
   "id": "509eefd2-6c92-417b-8560-94a2a871e863",
   "metadata": {},
   "outputs": [
    {
     "name": "stdout",
     "output_type": "stream",
     "text": [
      "After Swapping: 10 5\n"
     ]
    }
   ],
   "source": [
    "print(\"After Swapping:\", x,y)"
   ]
  },
  {
   "cell_type": "code",
   "execution_count": null,
   "id": "9101bec0-3709-4261-b959-5b4329fad3f1",
   "metadata": {},
   "outputs": [],
   "source": [
    "\"\"\"\n",
    "2. Create a program that calculates the area of a rectangle. Take the length and\n",
    "width as inputs from the user and store them in variables. Calculate and\n",
    "display the area.\n",
    "\"\"\""
   ]
  },
  {
   "cell_type": "code",
   "execution_count": 7,
   "id": "b1fbb412-b7fe-4ce2-b0d6-6c6f5e3412a6",
   "metadata": {},
   "outputs": [
    {
     "name": "stdin",
     "output_type": "stream",
     "text": [
      "Enter the length of rectangle 5\n"
     ]
    }
   ],
   "source": [
    "length=int(input(\"Enter the length of rectangle\"))"
   ]
  },
  {
   "cell_type": "code",
   "execution_count": 8,
   "id": "c912379b-2f15-46ae-824e-578ec61e689b",
   "metadata": {},
   "outputs": [
    {
     "name": "stdin",
     "output_type": "stream",
     "text": [
      "Enter the width of rectangle 5\n"
     ]
    }
   ],
   "source": [
    "width=int(input(\"Enter the width of rectangle\"))"
   ]
  },
  {
   "cell_type": "code",
   "execution_count": 10,
   "id": "3cb99591-4f7c-44c0-81f8-b5a297176504",
   "metadata": {},
   "outputs": [
    {
     "name": "stdout",
     "output_type": "stream",
     "text": [
      "Area of rectangle is 25\n"
     ]
    }
   ],
   "source": [
    "print(\"Area of rectangle is\",length*width)"
   ]
  },
  {
   "cell_type": "code",
   "execution_count": null,
   "id": "4930930c-89df-4cd3-90ce-98868f074cdf",
   "metadata": {},
   "outputs": [],
   "source": [
    "\"\"\"\n",
    "3.Write a Python program that converts temperatures from Celsius to\n",
    "Fahrenheit. Take the temperature in Celsius as input, store it in a variable,\n",
    "convert it to Fahrenheit, and display the result.\n",
    "\"\"\""
   ]
  },
  {
   "cell_type": "code",
   "execution_count": 12,
   "id": "b892d94d-121f-467f-a342-f68f22a23cda",
   "metadata": {},
   "outputs": [
    {
     "name": "stdin",
     "output_type": "stream",
     "text": [
      "Please enter temprature in celsius:  37.6\n"
     ]
    }
   ],
   "source": [
    "celsius=float(input(\"Please enter temprature in celsius: \"))"
   ]
  },
  {
   "cell_type": "code",
   "execution_count": 15,
   "id": "d8dce67f-b271-4298-b362-b51f6aa08dc0",
   "metadata": {},
   "outputs": [
    {
     "name": "stdout",
     "output_type": "stream",
     "text": [
      "Temprature in fahreneit is 99.68\n"
     ]
    }
   ],
   "source": [
    "print(\"Temprature in fahreneit is\", (celsius*9/5)+32)"
   ]
  },
  {
   "cell_type": "code",
   "execution_count": null,
   "id": "dd11c422-4b7b-4178-9ed7-0654ef98e405",
   "metadata": {},
   "outputs": [],
   "source": [
    "\"\"\"\n",
    "4. Write a Python program that takes a string as input and prints the length of\n",
    "the string.\n",
    "\"\"\""
   ]
  },
  {
   "cell_type": "code",
   "execution_count": 17,
   "id": "c0100320-7681-4d0b-b70b-22a93634f69f",
   "metadata": {},
   "outputs": [
    {
     "name": "stdin",
     "output_type": "stream",
     "text": [
      "Please enter the name : Manjot\n"
     ]
    }
   ],
   "source": [
    "name=input(\"Please enter the name :\")"
   ]
  },
  {
   "cell_type": "code",
   "execution_count": 18,
   "id": "724c5558-b963-41ee-9fe2-ff53822ec24f",
   "metadata": {},
   "outputs": [
    {
     "name": "stdout",
     "output_type": "stream",
     "text": [
      "6\n"
     ]
    }
   ],
   "source": [
    "print(len(name))"
   ]
  },
  {
   "cell_type": "code",
   "execution_count": null,
   "id": "37df1229-e9c0-41f4-984c-309a82e5aa5c",
   "metadata": {},
   "outputs": [],
   "source": [
    "\"\"\"\n",
    "5.Create a program that takes a sentence from the user and counts the number\n",
    "of vowels (a, e, i, o, u) in the string.\n",
    "\"\"\""
   ]
  },
  {
   "cell_type": "code",
   "execution_count": 93,
   "id": "4238572d-8e94-4dc3-bc15-8f2f04a195f9",
   "metadata": {},
   "outputs": [],
   "source": [
    "word=\"hello good morning\""
   ]
  },
  {
   "cell_type": "code",
   "execution_count": 97,
   "id": "f91addbc-7ae0-45f9-bc82-50f217af186f",
   "metadata": {},
   "outputs": [
    {
     "name": "stdout",
     "output_type": "stream",
     "text": [
      "6\n"
     ]
    }
   ],
   "source": [
    "vowels=\"aeiou\"\n",
    "vowels_counter=0\n",
    "for i in word:\n",
    "    if i in vowels:\n",
    "        vowels_counter+=1\n",
    "print(vowels_counter)"
   ]
  },
  {
   "cell_type": "code",
   "execution_count": 28,
   "id": "80134e1b-4af3-4593-9c46-bf641bc60f2d",
   "metadata": {},
   "outputs": [],
   "source": [
    "\"\"\"\n",
    "6.Given a string, reverse the order of characters using string slicing and print\n",
    "the reversed string.\n",
    "\"\"\""
   ]
  },
  {
   "cell_type": "code",
   "execution_count": 38,
   "id": "ce5231eb-08bd-43f6-869a-0280a97ee4a3",
   "metadata": {},
   "outputs": [
    {
     "data": {
      "text/plain": [
       "'Manjot'"
      ]
     },
     "execution_count": 38,
     "metadata": {},
     "output_type": "execute_result"
    }
   ],
   "source": [
    "name"
   ]
  },
  {
   "cell_type": "code",
   "execution_count": 39,
   "id": "690c1f42-f0dc-4db2-ac30-991e68c6df71",
   "metadata": {},
   "outputs": [
    {
     "data": {
      "text/plain": [
       "'tojnaM'"
      ]
     },
     "execution_count": 39,
     "metadata": {},
     "output_type": "execute_result"
    }
   ],
   "source": [
    "name[::-1]"
   ]
  },
  {
   "cell_type": "code",
   "execution_count": null,
   "id": "958300eb-c424-4b10-bde5-d443b6eae1b6",
   "metadata": {},
   "outputs": [],
   "source": [
    "\"\"\"\n",
    "7.Write a program that takes a string as input and checks if it is a palindrome\n",
    "(reads the same forwards and backwards).\n",
    "\"\"\"\n",
    "# palindrome ex are bob, radar, aba, otto, level"
   ]
  },
  {
   "cell_type": "code",
   "execution_count": 60,
   "id": "09467b78-da0c-4686-9e22-3f1454b04261",
   "metadata": {},
   "outputs": [
    {
     "name": "stdin",
     "output_type": "stream",
     "text": [
      "Enter any name level\n"
     ]
    }
   ],
   "source": [
    "random_name=input(\"Enter any name\")"
   ]
  },
  {
   "cell_type": "code",
   "execution_count": 61,
   "id": "6f7d8311-0002-42c5-a2d3-84590a877c3a",
   "metadata": {},
   "outputs": [],
   "source": [
    "reverse_name=random_name[::-1]"
   ]
  },
  {
   "cell_type": "code",
   "execution_count": 62,
   "id": "b359ca06-5939-4d56-a6a3-78bdfad5c931",
   "metadata": {},
   "outputs": [
    {
     "data": {
      "text/plain": [
       "'level'"
      ]
     },
     "execution_count": 62,
     "metadata": {},
     "output_type": "execute_result"
    }
   ],
   "source": [
    "reverse_name"
   ]
  },
  {
   "cell_type": "code",
   "execution_count": 63,
   "id": "43468755-3d17-4b19-af05-4f3addf644c0",
   "metadata": {},
   "outputs": [
    {
     "data": {
      "text/plain": [
       "True"
      ]
     },
     "execution_count": 63,
     "metadata": {},
     "output_type": "execute_result"
    }
   ],
   "source": [
    "random_name==reverse_name"
   ]
  },
  {
   "cell_type": "code",
   "execution_count": null,
   "id": "ef6f8f79-c158-4da3-ac86-f5d00d0c5420",
   "metadata": {},
   "outputs": [],
   "source": [
    "\"\"\"\n",
    "8.Create a program that takes a string as input and removes all the spaces from\n",
    "it. Print the modified string without spaces.\n",
    "\"\"\""
   ]
  },
  {
   "cell_type": "code",
   "execution_count": 64,
   "id": "f405a575-1f98-49e7-a544-0f0a2f1abdfa",
   "metadata": {},
   "outputs": [
    {
     "name": "stdin",
     "output_type": "stream",
     "text": [
      "Enter a name with spaces  Manjot Singh Dhindsa\n"
     ]
    }
   ],
   "source": [
    "string=input(\"Enter a name with spaces \")"
   ]
  },
  {
   "cell_type": "code",
   "execution_count": 69,
   "id": "c46d20a2-9bc0-4100-886d-5750b88f358f",
   "metadata": {},
   "outputs": [
    {
     "data": {
      "text/plain": [
       "'ManjotSinghDhindsa'"
      ]
     },
     "execution_count": 69,
     "metadata": {},
     "output_type": "execute_result"
    }
   ],
   "source": [
    "string.replace(\" \",\"\")"
   ]
  },
  {
   "cell_type": "code",
   "execution_count": null,
   "id": "d11d3fd2-2a18-496b-9a1d-ded844fd3999",
   "metadata": {},
   "outputs": [],
   "source": []
  }
 ],
 "metadata": {
  "kernelspec": {
   "display_name": "Python 3 (ipykernel)",
   "language": "python",
   "name": "python3"
  },
  "language_info": {
   "codemirror_mode": {
    "name": "ipython",
    "version": 3
   },
   "file_extension": ".py",
   "mimetype": "text/x-python",
   "name": "python",
   "nbconvert_exporter": "python",
   "pygments_lexer": "ipython3",
   "version": "3.10.8"
  }
 },
 "nbformat": 4,
 "nbformat_minor": 5
}
